{
 "cells": [
  {
   "cell_type": "code",
   "execution_count": 3,
   "metadata": {},
   "outputs": [
    {
     "ename": "UnsupportedOperation",
     "evalue": "not writable",
     "output_type": "error",
     "traceback": [
      "\u001b[0;31m---------------------------------------------------------------------------\u001b[0m",
      "\u001b[0;31mUnsupportedOperation\u001b[0m                      Traceback (most recent call last)",
      "\u001b[0;32m<ipython-input-3-8e04fc14da6a>\u001b[0m in \u001b[0;36m<module>\u001b[0;34m()\u001b[0m\n\u001b[1;32m     49\u001b[0m \u001b[0;34m\u001b[0m\u001b[0m\n\u001b[1;32m     50\u001b[0m \u001b[0;32mif\u001b[0m \u001b[0m__name__\u001b[0m \u001b[0;34m==\u001b[0m \u001b[0;34m'__main__'\u001b[0m\u001b[0;34m:\u001b[0m\u001b[0;34m\u001b[0m\u001b[0m\n\u001b[0;32m---> 51\u001b[0;31m     \u001b[0mapp\u001b[0m\u001b[0;34m.\u001b[0m\u001b[0mrun\u001b[0m\u001b[0;34m(\u001b[0m\u001b[0mhost\u001b[0m\u001b[0;34m=\u001b[0m\u001b[0;34m'localhost'\u001b[0m\u001b[0;34m,\u001b[0m \u001b[0mdebug\u001b[0m\u001b[0;34m=\u001b[0m\u001b[0;32mFalse\u001b[0m\u001b[0;34m,\u001b[0m \u001b[0muse_reloader\u001b[0m\u001b[0;34m=\u001b[0m\u001b[0;32mTrue\u001b[0m\u001b[0;34m)\u001b[0m\u001b[0;34m\u001b[0m\u001b[0m\n\u001b[0m",
      "\u001b[0;32m~/anaconda3/lib/python3.6/site-packages/flask/app.py\u001b[0m in \u001b[0;36mrun\u001b[0;34m(self, host, port, debug, load_dotenv, **options)\u001b[0m\n\u001b[1;32m    936\u001b[0m         \"\"\"Registers a blueprint on the application.\n\u001b[1;32m    937\u001b[0m \u001b[0;34m\u001b[0m\u001b[0m\n\u001b[0;32m--> 938\u001b[0;31m         \u001b[0;34m.\u001b[0m\u001b[0;34m.\u001b[0m \u001b[0mversionadded\u001b[0m\u001b[0;34m:\u001b[0m\u001b[0;34m:\u001b[0m \u001b[0;36m0.7\u001b[0m\u001b[0;34m\u001b[0m\u001b[0m\n\u001b[0m\u001b[1;32m    939\u001b[0m         \"\"\"\n\u001b[1;32m    940\u001b[0m         \u001b[0mfirst_registration\u001b[0m \u001b[0;34m=\u001b[0m \u001b[0;32mFalse\u001b[0m\u001b[0;34m\u001b[0m\u001b[0m\n",
      "\u001b[0;32m~/anaconda3/lib/python3.6/site-packages/flask/cli.py\u001b[0m in \u001b[0;36mshow_server_banner\u001b[0;34m(env, debug, app_import_path, eager_loading)\u001b[0m\n",
      "\u001b[0;32m~/anaconda3/lib/python3.6/site-packages/click/utils.py\u001b[0m in \u001b[0;36mecho\u001b[0;34m(message, file, nl, err, color)\u001b[0m\n\u001b[1;32m    257\u001b[0m \u001b[0;34m\u001b[0m\u001b[0m\n\u001b[1;32m    258\u001b[0m     \u001b[0;32mif\u001b[0m \u001b[0mmessage\u001b[0m\u001b[0;34m:\u001b[0m\u001b[0;34m\u001b[0m\u001b[0m\n\u001b[0;32m--> 259\u001b[0;31m         \u001b[0mfile\u001b[0m\u001b[0;34m.\u001b[0m\u001b[0mwrite\u001b[0m\u001b[0;34m(\u001b[0m\u001b[0mmessage\u001b[0m\u001b[0;34m)\u001b[0m\u001b[0;34m\u001b[0m\u001b[0m\n\u001b[0m\u001b[1;32m    260\u001b[0m     \u001b[0mfile\u001b[0m\u001b[0;34m.\u001b[0m\u001b[0mflush\u001b[0m\u001b[0;34m(\u001b[0m\u001b[0;34m)\u001b[0m\u001b[0;34m\u001b[0m\u001b[0m\n\u001b[1;32m    261\u001b[0m \u001b[0;34m\u001b[0m\u001b[0m\n",
      "\u001b[0;31mUnsupportedOperation\u001b[0m: not writable"
     ]
    }
   ],
   "source": [
    "import pandas as pd\n",
    "import numpy as np\n",
    "import json\n",
    "import dill as pickle\n",
    "from flask import Flask, jsonify, request, Response\n",
    "\n",
    "app = Flask(__name__)\n",
    "\n",
    "@app.route('/predict', methods=['POST'])\n",
    "def apicall():\n",
    "    data = pd.read_csv('customer_segmentation2_testdata.csv')    \n",
    "    \n",
    "    try:\n",
    "        #parse user input for test data\n",
    "        test_json = request.get_json(silent=True)\n",
    "               \n",
    "    except Exception as e:\n",
    "        raise e\n",
    "\n",
    "#     clf = './model/model_warranty_estimation.pk'\n",
    "\n",
    "#     print(\"Loading the model...\")\n",
    "#     loaded_model = None\n",
    "#     with open(clf,'rb') as f:\n",
    "#         loaded_model = pickle.load(f)\n",
    "\n",
    "#     print(\"The model has been loaded...doing predictions now...\")\n",
    "#     predictions = loaded_model.predict(X_test)\n",
    "#     #print(predictions)\n",
    "\n",
    "#     prediction_series = list(pd.Series(predictions))\n",
    "#     testData = testData.assign(score=prediction_series)\n",
    "\n",
    "#     processData = testData[['CustomerID', 'score']]    \n",
    "#     processDataMean = processData.groupby('CustomerID')['score'].mean().reset_index()\n",
    "#     processDataMean['rank'] = processDataMean['score'].rank(ascending=False, method='first')\n",
    "    \n",
    "#     returnDataMean = processDataMean\n",
    "    \n",
    "#     if test_json.get('customerIds'):            \n",
    "#         customerID = test_json['customerIds']\n",
    "#         returnDataMean = processDataMean.loc[processDataMean['CustomerID'].isin(customerID)]\n",
    "\n",
    "    \n",
    "#     returnObj = returnDataMean\n",
    "    \n",
    "    resp = Response(response=test_json, status=200, mimetype=\"application/json\")\n",
    "    return(resp)\n",
    "        \n",
    "if __name__ == '__main__':\n",
    "    app.run(host='localhost', debug=False, use_reloader=True)"
   ]
  },
  {
   "cell_type": "code",
   "execution_count": null,
   "metadata": {},
   "outputs": [],
   "source": []
  }
 ],
 "metadata": {
  "kernelspec": {
   "display_name": "Python 3",
   "language": "python",
   "name": "python3"
  },
  "language_info": {
   "codemirror_mode": {
    "name": "ipython",
    "version": 3
   },
   "file_extension": ".py",
   "mimetype": "text/x-python",
   "name": "python",
   "nbconvert_exporter": "python",
   "pygments_lexer": "ipython3",
   "version": "3.6.5"
  }
 },
 "nbformat": 4,
 "nbformat_minor": 2
}
